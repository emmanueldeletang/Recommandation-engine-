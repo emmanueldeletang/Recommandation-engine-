{
 "cells": [
  {
   "cell_type": "markdown",
   "id": "e0af80e7",
   "metadata": {},
   "source": [
    "Part 1: building a sample Check the status"
   ]
  },
  {
   "cell_type": "markdown",
   "id": "42dfc67d",
   "metadata": {},
   "source": [
    "notebook to have data generation for recommandation engine "
   ]
  },
  {
   "cell_type": "markdown",
   "id": "a33dc069",
   "metadata": {},
   "source": [
    "Installation of awsrangler library you need to have version 15 "
   ]
  },
  {
   "cell_type": "code",
   "execution_count": null,
   "id": "c8fa7077",
   "metadata": {},
   "outputs": [],
   "source": [
    "pip install awswrangler==2.15.0"
   ]
  },
  {
   "cell_type": "markdown",
   "id": "a8cb60f3",
   "metadata": {},
   "source": [
    "configure your connection and environement "
   ]
  },
  {
   "cell_type": "code",
   "execution_count": 1,
   "id": "2b09384d",
   "metadata": {},
   "outputs": [],
   "source": [
    "import awswrangler as wr\n",
    "import pandas as pd\n",
    "\n",
    "port = 8182\n",
    "url='yourcluster endpoint' # The Neptune Cluster endpoint\n",
    "\n",
    "iam_enabled = False # Set to True/False based on the configuration of your cluster\n",
    "neptune_port = 8182 # Set to the Neptune Cluster Port, Default is 8182\n",
    "client = wr.neptune.connect(url, neptune_port, iam_enabled=iam_enabled)"
   ]
  },
  {
   "cell_type": "markdown",
   "id": "bb0c6524",
   "metadata": {},
   "source": [
    "check if this is empty "
   ]
  },
  {
   "cell_type": "code",
   "execution_count": 5,
   "id": "c92448c0",
   "metadata": {},
   "outputs": [
    {
     "data": {
      "text/html": [
       "<div>\n",
       "<style scoped>\n",
       "    .dataframe tbody tr th:only-of-type {\n",
       "        vertical-align: middle;\n",
       "    }\n",
       "\n",
       "    .dataframe tbody tr th {\n",
       "        vertical-align: top;\n",
       "    }\n",
       "\n",
       "    .dataframe thead th {\n",
       "        text-align: right;\n",
       "    }\n",
       "</style>\n",
       "<table border=\"1\" class=\"dataframe\">\n",
       "  <thead>\n",
       "    <tr style=\"text-align: right;\">\n",
       "      <th></th>\n",
       "      <th>0</th>\n",
       "      <th>1</th>\n",
       "      <th>2</th>\n",
       "    </tr>\n",
       "  </thead>\n",
       "  <tbody>\n",
       "    <tr>\n",
       "      <th>0</th>\n",
       "      <td>{'id': '100', 'label': 'person'}</td>\n",
       "      <td>{'id': '403', 'label': 'person'}</td>\n",
       "      <td>{'val': 'n', 'name': 'nhhaktstfi', 'id': 403, ...</td>\n",
       "    </tr>\n",
       "    <tr>\n",
       "      <th>1</th>\n",
       "      <td>{'id': '100', 'label': 'person'}</td>\n",
       "      <td>{'id': '609', 'label': 'person'}</td>\n",
       "      <td>{'val': 'y', 'name': 'ypvpetymce', 'id': 609, ...</td>\n",
       "    </tr>\n",
       "    <tr>\n",
       "      <th>2</th>\n",
       "      <td>{'id': '100', 'label': 'person'}</td>\n",
       "      <td>{'id': '638', 'label': 'person'}</td>\n",
       "      <td>{'val': 'y', 'name': 'wxjqfmwvnt', 'id': 638, ...</td>\n",
       "    </tr>\n",
       "    <tr>\n",
       "      <th>3</th>\n",
       "      <td>{'id': '100', 'label': 'person'}</td>\n",
       "      <td>{'id': '277', 'label': 'person'}</td>\n",
       "      <td>{'val': 'y', 'name': 'wbjkvfitxh', 'id': 277, ...</td>\n",
       "    </tr>\n",
       "    <tr>\n",
       "      <th>4</th>\n",
       "      <td>{'id': '100', 'label': 'person'}</td>\n",
       "      <td>{'id': '287', 'label': 'person'}</td>\n",
       "      <td>{'val': 'y', 'name': 'qygxqxrzkd', 'id': 287, ...</td>\n",
       "    </tr>\n",
       "  </tbody>\n",
       "</table>\n",
       "</div>"
      ],
      "text/plain": [
       "                                  0                                 1  \\\n",
       "0  {'id': '100', 'label': 'person'}  {'id': '403', 'label': 'person'}   \n",
       "1  {'id': '100', 'label': 'person'}  {'id': '609', 'label': 'person'}   \n",
       "2  {'id': '100', 'label': 'person'}  {'id': '638', 'label': 'person'}   \n",
       "3  {'id': '100', 'label': 'person'}  {'id': '277', 'label': 'person'}   \n",
       "4  {'id': '100', 'label': 'person'}  {'id': '287', 'label': 'person'}   \n",
       "\n",
       "                                                   2  \n",
       "0  {'val': 'n', 'name': 'nhhaktstfi', 'id': 403, ...  \n",
       "1  {'val': 'y', 'name': 'ypvpetymce', 'id': 609, ...  \n",
       "2  {'val': 'y', 'name': 'wxjqfmwvnt', 'id': 638, ...  \n",
       "3  {'val': 'y', 'name': 'wbjkvfitxh', 'id': 277, ...  \n",
       "4  {'val': 'y', 'name': 'qygxqxrzkd', 'id': 287, ...  "
      ]
     },
     "metadata": {},
     "output_type": "display_data"
    }
   ],
   "source": [
    "\n",
    "query = \"g.V().has('id', 100 ).out('know').valueMap().path()\"\n",
    "\n",
    "df = wr.neptune.execute_gremlin(client, query)\n",
    "display(df.head(5))"
   ]
  },
  {
   "cell_type": "code",
   "execution_count": null,
   "id": "cc7d8f85",
   "metadata": {
    "collapsed": true
   },
   "outputs": [],
   "source": [
    "if you want to delete the graph use the following command "
   ]
  },
  {
   "cell_type": "code",
   "execution_count": 6,
   "id": "8d6cd534",
   "metadata": {},
   "outputs": [
    {
     "data": {
      "text/html": [
       "<div>\n",
       "<style scoped>\n",
       "    .dataframe tbody tr th:only-of-type {\n",
       "        vertical-align: middle;\n",
       "    }\n",
       "\n",
       "    .dataframe tbody tr th {\n",
       "        vertical-align: top;\n",
       "    }\n",
       "\n",
       "    .dataframe thead th {\n",
       "        text-align: right;\n",
       "    }\n",
       "</style>\n",
       "<table border=\"1\" class=\"dataframe\">\n",
       "  <thead>\n",
       "    <tr style=\"text-align: right;\">\n",
       "      <th></th>\n",
       "    </tr>\n",
       "  </thead>\n",
       "  <tbody>\n",
       "  </tbody>\n",
       "</table>\n",
       "</div>"
      ],
      "text/plain": [
       "Empty DataFrame\n",
       "Columns: []\n",
       "Index: []"
      ]
     },
     "metadata": {},
     "output_type": "display_data"
    }
   ],
   "source": [
    "%%gremlin\n",
    "g.V().drop().iterate()"
   ]
  },
  {
   "cell_type": "raw",
   "id": "c046d474",
   "metadata": {},
   "source": [
    "Insert the data vertex and edges , you can change of course the name of property as you want and you can change the range to generate less or more vertex and edges as you want , here i will generate person and link with friends and adding object vertex link to person by a 'belong'"
   ]
  },
  {
   "cell_type": "code",
   "execution_count": null,
   "id": "4b3f35b4",
   "metadata": {},
   "outputs": [],
   "source": [
    "import random\n",
    "import string\n",
    "\n",
    "\n",
    "def _create_person_vertex(i):\n",
    "    list1 = ['y', 'n']\n",
    "    data = dict()\n",
    "    data[\"~id\"] = i\n",
    "    data[\"~label\"] = \"person\"\n",
    "    data[\"id\"] = i\n",
    "    data[\"name\"] = \"\".join(random.choice(string.ascii_lowercase) for i in range(10))\n",
    "    data[\"val\"] = random.choice(list1)\n",
    "    data[\"sample\"] = [random.randint(0, 1000), random.randint(0, 1000)]\n",
    "    return data\n",
    "\n",
    "\n",
    "r1 = range(100,1000)\n",
    "for i in r1 : \n",
    "    data = [_create_person_vertex(i)]\n",
    "    df = pd.DataFrame(data)\n",
    "    res = wr.neptune.to_property_graph(client, df)\n",
    "    query = f\"MATCH (s) WHERE id(s)='{data[0]['id']}' RETURN s\"\n",
    "    df = wr.neptune.execute_opencypher(client, query)\n",
    "    display(df)\n"
   ]
  },
  {
   "cell_type": "code",
   "execution_count": null,
   "id": "4b2ca9e6",
   "metadata": {},
   "outputs": [],
   "source": [
    "import uuid\n",
    "import random\n",
    "import string\n",
    "\n",
    "\n",
    "def _create_object_vertex(i):\n",
    "    list1 = ['email', 'phone']\n",
    "    data = dict()\n",
    "    data[\"~id\"] = i\n",
    "    data[\"~label\"] = \"object\"\n",
    "    data[\"id\"] = i\n",
    "    data[\"name\"] = \"\".join(random.choice(string.ascii_lowercase) for i in range(10))\n",
    "    data[\"val\"] = random.choice(list1)\n",
    "    return data\n",
    "\n",
    "r1 = range(1,99)\n",
    "for i in r1 : \n",
    "    data = [_create_object_vertex(random.randint(1, 99))]\n",
    "    df = pd.DataFrame(data)\n",
    "    res = wr.neptune.to_property_graph(client, df)"
   ]
  },
  {
   "cell_type": "code",
   "execution_count": null,
   "id": "c320c0f1",
   "metadata": {},
   "outputs": [],
   "source": [
    "import uuid\n",
    "import random\n",
    "import string\n",
    "\n",
    "def _create_person_edge(i,j):\n",
    "    list1 = ['y', 'n']\n",
    "    data = dict()\n",
    "    data[\"~id\"] = uuid.uuid4()\n",
    "    data[\"~label\"] = \"know\"\n",
    "    data[\"~to\"] = i\n",
    "    data[\"~from\"] = j\n",
    "    data[\"int\"] = random.randint(0, 1000)\n",
    "    data[\"par\"] = random.choice(list1)\n",
    "    data[\"str\"] = \"\".join(random.choice(string.ascii_lowercase) for i in range(10))\n",
    "    return data\n",
    "\n",
    "r1 = range(1,5000)\n",
    "for i in r1 : \n",
    "    data = [_create_person_edge(random.randint(100, 1000),random.randint(100, 1000))]\n",
    "    df = pd.DataFrame(data)\n",
    "    res = wr.neptune.to_property_graph(client, df)\n"
   ]
  },
  {
   "cell_type": "code",
   "execution_count": 17,
   "id": "34947e0c",
   "metadata": {},
   "outputs": [],
   "source": [
    "import uuid\n",
    "import random\n",
    "import string\n",
    "\n",
    "def _create_object_edge(i,j):\n",
    "    data = dict()\n",
    "    data[\"~id\"] = uuid.uuid4()\n",
    "    data[\"~label\"] = \"belong\"\n",
    "    data[\"~to\"] = i\n",
    "    data[\"~from\"] = j\n",
    "    data[\"int\"] = random.randint(0, 1000)\n",
    "    return data\n",
    "\n",
    "r1 = range(1,1000)\n",
    "for i in r1 : \n",
    "    data = [_create_object_edge(random.randint(1, 99),random.randint(100, 1000))]\n",
    "    df = pd.DataFrame(data)\n",
    "    res = wr.neptune.to_property_graph(client, df)"
   ]
  },
  {
   "cell_type": "markdown",
   "id": "ce89a0af",
   "metadata": {},
   "source": [
    "check the status to connect to graph db "
   ]
  },
  {
   "cell_type": "code",
   "execution_count": 32,
   "id": "668dc1ff",
   "metadata": {},
   "outputs": [
    {
     "data": {
      "text/plain": [
       "{'status': 'healthy',\n",
       " 'startTime': 'Thu Apr 14 06:08:41 UTC 2022',\n",
       " 'dbEngineVersion': '',\n",
       " 'role': 'writer',\n",
       " 'gremlin': {'version': 'tinkerpop-3.4.11'},\n",
       " 'sparql': {'version': 'sparql-1.1'},\n",
       " 'labMode': {'ObjectIndex': 'disabled',\n",
       "  'DFEQueryEngine': 'viaQueryHint',\n",
       "  'ReadWriteConflictDetection': 'enabled'},\n",
       " 'features': {'ResultCache': {'status': 'disabled'},\n",
       "  'IAMAuthentication': 'disabled',\n",
       "  'Streams': 'enabled',\n",
       "  'AuditLog': 'enabled'},\n",
       " 'settings': {'clusterQueryTimeoutInMs': '300000'}}"
      ]
     },
     "execution_count": 32,
     "metadata": {},
     "output_type": "execute_result"
    }
   ],
   "source": [
    "%status"
   ]
  },
  {
   "cell_type": "markdown",
   "id": "f0b136ee",
   "metadata": {},
   "source": [
    "get status and drop Exisitng vertices and edge to clean your graph "
   ]
  },
  {
   "cell_type": "code",
   "execution_count": null,
   "id": "3c75f7b8",
   "metadata": {},
   "outputs": [],
   "source": [
    "%%gremlin\n",
    "g.V().drop().iterate()"
   ]
  },
  {
   "cell_type": "markdown",
   "id": "6095a8cd",
   "metadata": {},
   "source": [
    "View all the graph to show the global view "
   ]
  },
  {
   "cell_type": "code",
   "execution_count": 30,
   "id": "43aaa562",
   "metadata": {},
   "outputs": [
    {
     "data": {
      "application/vnd.jupyter.widget-view+json": {
       "model_id": "62d4241e8c7d4000b391b91bdd885cec",
       "version_major": 2,
       "version_minor": 0
      },
      "text/plain": [
       "Tab(children=(Output(layout=Layout(max_height='600px', overflow='scroll', width='100%')), Force(network=<graph…"
      ]
     },
     "metadata": {},
     "output_type": "display_data"
    }
   ],
   "source": [
    "%%gremlin\n",
    "\n",
    "g.V().both().valueMap().path()"
   ]
  },
  {
   "cell_type": "markdown",
   "id": "01b63f2c",
   "metadata": {},
   "source": [
    "count the number of edges and vertex "
   ]
  },
  {
   "cell_type": "code",
   "execution_count": 33,
   "id": "a86b6627",
   "metadata": {},
   "outputs": [
    {
     "data": {
      "application/vnd.jupyter.widget-view+json": {
       "model_id": "98363f9410214cd2a2bd7bf7c3e323b4",
       "version_major": 2,
       "version_minor": 0
      },
      "text/plain": [
       "Tab(children=(Output(layout=Layout(max_height='600px', overflow='scroll', width='100%')), Output(layout=Layout…"
      ]
     },
     "metadata": {},
     "output_type": "display_data"
    }
   ],
   "source": [
    "%%gremlin\n",
    "\n",
    "\n",
    "g.V().count()\n"
   ]
  },
  {
   "cell_type": "code",
   "execution_count": 34,
   "id": "ad7cab14",
   "metadata": {},
   "outputs": [
    {
     "data": {
      "application/vnd.jupyter.widget-view+json": {
       "model_id": "ce5e103bd45e41a5b5b269de6bf87f0d",
       "version_major": 2,
       "version_minor": 0
      },
      "text/plain": [
       "Tab(children=(Output(layout=Layout(max_height='600px', overflow='scroll', width='100%')), Output(layout=Layout…"
      ]
     },
     "metadata": {},
     "output_type": "display_data"
    }
   ],
   "source": [
    "%%gremlin\n",
    "\n",
    "\n",
    "g.E().count()"
   ]
  },
  {
   "cell_type": "markdown",
   "id": "f2eb6400",
   "metadata": {},
   "source": [
    "show a sample for a specific ID to illustrate the connection "
   ]
  },
  {
   "cell_type": "code",
   "execution_count": 35,
   "id": "1e48c4f2",
   "metadata": {},
   "outputs": [
    {
     "data": {
      "application/vnd.jupyter.widget-view+json": {
       "model_id": "f1e5c307bce14fca978a188256d986fd",
       "version_major": 2,
       "version_minor": 0
      },
      "text/plain": [
       "Tab(children=(Output(layout=Layout(max_height='600px', overflow='scroll', width='100%')), Force(network=<graph…"
      ]
     },
     "metadata": {},
     "output_type": "display_data"
    }
   ],
   "source": [
    "%%gremlin\n",
    "\n",
    "g.V().                   // Iterator<Vertex>\n",
    "  has( \"id\", 400 ). // Iterator<User>\n",
    "  bothE(). \n",
    "  // 2nd degree friends\n",
    "  simplePath().\n",
    "  dedup().\n",
    "  valueMap().path() "
   ]
  },
  {
   "cell_type": "code",
   "execution_count": null,
   "id": "69704dcc",
   "metadata": {
    "collapsed": true
   },
   "outputs": [],
   "source": [
    "View all the activities play by one user here a par property autogenerate"
   ]
  },
  {
   "cell_type": "code",
   "execution_count": null,
   "id": "9bee9057",
   "metadata": {},
   "outputs": [],
   "source": [
    "na = 'Exx'"
   ]
  },
  {
   "cell_type": "code",
   "execution_count": null,
   "id": "bdfaa906",
   "metadata": {},
   "outputs": [],
   "source": [
    "%%gremlin\n",
    "\n",
    "\n",
    "g.V().has('str, '${na}').out('know').valueMap().path()"
   ]
  },
  {
   "cell_type": "markdown",
   "id": "bd570589",
   "metadata": {},
   "source": [
    "View all Bill Friends "
   ]
  },
  {
   "cell_type": "code",
   "execution_count": null,
   "id": "502fee00",
   "metadata": {},
   "outputs": [],
   "source": [
    "\n",
    "%%gremlin\n",
    "\n",
    "g.V().has('name', '${na}').out('know').valueMap().path()\n",
    "\n"
   ]
  },
  {
   "cell_type": "markdown",
   "id": "7ffdcd1f",
   "metadata": {},
   "source": [
    "let's now create a PYMK recommendation for a specific user.\n",
    "\n",
    "In the query below, we're finding the vertex that represents our user. We're then traversing FRIEND relationships (we don't care about relationship direction, so we're using both()) to find that user's immediate friends. We're then traversing another hop into the graph, looking for friends of those friends who are not currently connected to our user (i.e., we're looking for the unclosed triangles).\n",
    "\n",
    "We then count the paths to these candidate friends, and order the results based on the number of times we can reach a candidate via one of the user's immediate friends."
   ]
  },
  {
   "cell_type": "code",
   "execution_count": 37,
   "id": "7b9b7d5f",
   "metadata": {},
   "outputs": [
    {
     "data": {
      "application/vnd.jupyter.widget-view+json": {
       "model_id": "c5044a13dcd647629141f1acc848fcc4",
       "version_major": 2,
       "version_minor": 0
      },
      "text/plain": [
       "Tab(children=(Output(layout=Layout(max_height='600px', overflow='scroll', width='100%')), Output(layout=Layout…"
      ]
     },
     "metadata": {},
     "output_type": "display_data"
    }
   ],
   "source": [
    "%%gremlin\n",
    "\n",
    "g.V().hasLabel('person').has('id', 400).as('person').  \n",
    "  both('know').aggregate('know').  \n",
    "  both('know').\n",
    "    where(P.neq('person')).where(P.without('know')).  \n",
    "  groupCount().by('name').  \n",
    "  order(Scope.local).by(values, Order.decr).\n",
    "  next()"
   ]
  },
  {
   "cell_type": "raw",
   "id": "fa8739fc",
   "metadata": {},
   "source": [
    "let's now find people who are friend with my friend "
   ]
  },
  {
   "cell_type": "code",
   "execution_count": 38,
   "id": "ee5b4293",
   "metadata": {},
   "outputs": [
    {
     "data": {
      "application/vnd.jupyter.widget-view+json": {
       "model_id": "df0ded770caf4aa0bf6e55baa15a18c2",
       "version_major": 2,
       "version_minor": 0
      },
      "text/plain": [
       "Tab(children=(Output(layout=Layout(max_height='600px', overflow='scroll', width='100%')), Force(network=<graph…"
      ]
     },
     "metadata": {},
     "output_type": "display_data"
    }
   ],
   "source": [
    "%%gremlin\n",
    "\n",
    "g.V().                   // Iterator<Vertex>\n",
    "  has(\"id\", 400 ). // Iterator<User>\n",
    "  out(\"know\"). \n",
    "  out(\"know\"). \n",
    "  where(not(has(\"name\", \"Emmanuel\"))).\n",
    " // 2nd degree friends\n",
    "  dedup().\n",
    "  valueMap().path()   \n"
   ]
  },
  {
   "cell_type": "raw",
   "id": "df9d8422",
   "metadata": {},
   "source": [
    "let's now find a person who are friend with me and aggree to accept me using a variable par for exemple to select a subset of friend "
   ]
  },
  {
   "cell_type": "code",
   "execution_count": 40,
   "id": "a859ab03",
   "metadata": {},
   "outputs": [
    {
     "data": {
      "application/vnd.jupyter.widget-view+json": {
       "model_id": "0563740e2444457abf4f80bd6728e533",
       "version_major": 2,
       "version_minor": 0
      },
      "text/plain": [
       "Tab(children=(Output(layout=Layout(max_height='600px', overflow='scroll', width='100%')), Force(network=<graph…"
      ]
     },
     "metadata": {},
     "output_type": "display_data"
    }
   ],
   "source": [
    "%%gremlin\n",
    "\n",
    "g.V().                   // Iterator<Vertex>\n",
    "  has(\"id\", 400 ). \n",
    "  outE(\"know\").has('par',\"y\").inV().\n",
    "   where(not(has(\"id\", 400))).\n",
    " // 2nd degree friends\n",
    "  dedup().\n",
    "  valueMap().path()   \n"
   ]
  },
  {
   "cell_type": "code",
   "execution_count": 41,
   "id": "9fee9351",
   "metadata": {},
   "outputs": [
    {
     "data": {
      "application/vnd.jupyter.widget-view+json": {
       "model_id": "6f9d88e47e2a4743b395534e496b47ca",
       "version_major": 2,
       "version_minor": 0
      },
      "text/plain": [
       "Tab(children=(Output(layout=Layout(max_height='600px', overflow='scroll', width='100%')), Force(network=<graph…"
      ]
     },
     "metadata": {},
     "output_type": "display_data"
    }
   ],
   "source": [
    "%%gremlin\n",
    "\n",
    "g.V().                   // Iterator<Vertex>\n",
    "  has(\"id\", 400 ). \n",
    "  outE(\"know\").has('par',\"y\").inV().\n",
    "  outE(\"know\").has('par',\"y\").inV().\n",
    "  where(not(has(\"name\", \"Emmanuel\"))).\n",
    " // 2nd degree friends\n",
    "  dedup().\n",
    "  valueMap().path()   \n",
    "\n"
   ]
  },
  {
   "cell_type": "raw",
   "id": "366ce252",
   "metadata": {},
   "source": [
    "setup a cardinality and add this to the vertex "
   ]
  },
  {
   "cell_type": "code",
   "execution_count": 28,
   "id": "338195a2",
   "metadata": {},
   "outputs": [
    {
     "data": {
      "application/vnd.jupyter.widget-view+json": {
       "model_id": "f05c2765ee4d46b69b520a75a194dacd",
       "version_major": 2,
       "version_minor": 0
      },
      "text/plain": [
       "Tab(children=(Output(layout=Layout(max_height='600px', overflow='scroll', width='100%')), Output(layout=Layout…"
      ]
     },
     "metadata": {},
     "output_type": "display_data"
    }
   ],
   "source": [
    "%%gremlin\n",
    "\n",
    "g.V().property(single, 'Importance',both().count())"
   ]
  },
  {
   "cell_type": "markdown",
   "id": "88add0a9",
   "metadata": {},
   "source": [
    "Same for other basket or bike "
   ]
  },
  {
   "cell_type": "code",
   "execution_count": 29,
   "id": "7dbb3c1e",
   "metadata": {},
   "outputs": [
    {
     "data": {
      "application/vnd.jupyter.widget-view+json": {
       "model_id": "25fe034af35c4c2694774c26827313e1",
       "version_major": 2,
       "version_minor": 0
      },
      "text/plain": [
       "Tab(children=(Output(layout=Layout(max_height='600px', overflow='scroll', width='100%')), Output(layout=Layout…"
      ]
     },
     "metadata": {},
     "output_type": "display_data"
    }
   ],
   "source": [
    "%%gremlin \n",
    "\n",
    "g.V().valueMap()"
   ]
  },
  {
   "cell_type": "markdown",
   "id": "3e52a0bd",
   "metadata": {},
   "source": [
    "let's now find a object and see all the relation of this obhect "
   ]
  },
  {
   "cell_type": "code",
   "execution_count": 21,
   "id": "0e31bc3b",
   "metadata": {},
   "outputs": [
    {
     "data": {
      "application/vnd.jupyter.widget-view+json": {
       "model_id": "674666e978ca460bb80c7d99b4420d55",
       "version_major": 2,
       "version_minor": 0
      },
      "text/plain": [
       "Tab(children=(Output(layout=Layout(max_height='600px', overflow='scroll', width='100%')), Force(network=<graph…"
      ]
     },
     "metadata": {},
     "output_type": "display_data"
    }
   ],
   "source": [
    "%%gremlin\n",
    "\n",
    "\n",
    "g.V().has('id', 20).in('belong').valueMap().path()"
   ]
  },
  {
   "cell_type": "raw",
   "id": "fe3db8b5",
   "metadata": {},
   "source": [
    "Lets play with this and see for one the capacity to find person with same object "
   ]
  },
  {
   "cell_type": "code",
   "execution_count": 42,
   "id": "0740b718",
   "metadata": {},
   "outputs": [
    {
     "data": {
      "application/vnd.jupyter.widget-view+json": {
       "model_id": "8d8bd4b3fbe14c198a107a8144e96ba7",
       "version_major": 2,
       "version_minor": 0
      },
      "text/plain": [
       "Tab(children=(Output(layout=Layout(max_height='600px', overflow='scroll', width='100%')), Force(network=<graph…"
      ]
     },
     "metadata": {},
     "output_type": "display_data"
    }
   ],
   "source": [
    "%%gremlin\n",
    "\n",
    "g.V().                   // Iterator<Vertex>\n",
    "  has(\"name\", \"wzyssuvjdj\" ). // Iterator<User>\n",
    "  outE(\"belong\"). \n",
    "  inV().in('belong').dedup().simplePath().valueMap().path()\n"
   ]
  },
  {
   "cell_type": "raw",
   "id": "055a07e8",
   "metadata": {},
   "source": [
    "Lets play with opencypher who can interact with the graph too "
   ]
  },
  {
   "cell_type": "code",
   "execution_count": 44,
   "id": "1e929c97",
   "metadata": {},
   "outputs": [
    {
     "data": {
      "application/vnd.jupyter.widget-view+json": {
       "model_id": "cb6a36486b2d43608b9f3a0a5d278574",
       "version_major": 2,
       "version_minor": 0
      },
      "text/plain": [
       "Tab()"
      ]
     },
     "metadata": {},
     "output_type": "display_data"
    }
   ],
   "source": [
    "%%oc\n",
    "MATCH (n)\n",
    "RETURN n\n",
    "LIMIT 5"
   ]
  },
  {
   "cell_type": "markdown",
   "id": "0060435c",
   "metadata": {},
   "source": [
    "who the person with ID 400 know "
   ]
  },
  {
   "cell_type": "code",
   "execution_count": 48,
   "id": "1838ee8e",
   "metadata": {},
   "outputs": [
    {
     "data": {
      "application/vnd.jupyter.widget-view+json": {
       "model_id": "ca8d612240794bcb8104b473061fc5b5",
       "version_major": 2,
       "version_minor": 0
      },
      "text/plain": [
       "Tab()"
      ]
     },
     "metadata": {},
     "output_type": "display_data"
    }
   ],
   "source": [
    "%%oc -d $my_node_labels -de $my_edge_labels -l 20\n",
    "MATCH p = (a:person {id:400})-[:know]->()\n",
    "RETURN p"
   ]
  }
 ],
 "metadata": {
  "kernelspec": {
   "display_name": "Python 3",
   "language": "python",
   "name": "python3"
  },
  "language_info": {
   "codemirror_mode": {
    "name": "ipython",
    "version": 3
   },
   "file_extension": ".py",
   "mimetype": "text/x-python",
   "name": "python",
   "nbconvert_exporter": "python",
   "pygments_lexer": "ipython3",
   "version": "3.7.12"
  }
 },
 "nbformat": 4,
 "nbformat_minor": 5
}
